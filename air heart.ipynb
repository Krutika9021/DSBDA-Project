{
  "metadata": {
    "kernelspec": {
      "name": "python",
      "display_name": "Python (Pyodide)",
      "language": "python"
    },
    "language_info": {
      "codemirror_mode": {
        "name": "python",
        "version": 3
      },
      "file_extension": ".py",
      "mimetype": "text/x-python",
      "name": "python",
      "nbconvert_exporter": "python",
      "pygments_lexer": "ipython3",
      "version": "3.8"
    }
  },
  "nbformat_minor": 5,
  "nbformat": 4,
  "cells": [
    {
      "id": "47398b7e-8ff9-457e-8c9e-81cfa9bb70a4",
      "cell_type": "code",
      "source": "import pandas as pd",
      "metadata": {
        "trusted": true
      },
      "outputs": [],
      "execution_count": 1
    },
    {
      "id": "fc427c8b-788e-417a-959e-aecd463b7549",
      "cell_type": "code",
      "source": "air = pd.read_csv('airquality.csv')\nair",
      "metadata": {
        "trusted": true
      },
      "outputs": [
        {
          "execution_count": 2,
          "output_type": "execute_result",
          "data": {
            "text/plain": "     Unnamed: 0  Ozone  Solar.R  Wind  Temp  Month  Day\n0             1   41.0    190.0   7.4    67      5    1\n1             2   36.0    118.0   8.0    72      5    2\n2             3   12.0    149.0  12.6    74      5    3\n3             4   18.0    313.0  11.5    62      5    4\n4             5    NaN      NaN  14.3    56      5    5\n..          ...    ...      ...   ...   ...    ...  ...\n148         149   30.0    193.0   6.9    70      9   26\n149         150    NaN    145.0  13.2    77      9   27\n150         151   14.0    191.0  14.3    75      9   28\n151         152   18.0    131.0   8.0    76      9   29\n152         153   20.0    223.0  11.5    68      9   30\n\n[153 rows x 7 columns]",
            "text/html": "<div>\n<style scoped>\n    .dataframe tbody tr th:only-of-type {\n        vertical-align: middle;\n    }\n\n    .dataframe tbody tr th {\n        vertical-align: top;\n    }\n\n    .dataframe thead th {\n        text-align: right;\n    }\n</style>\n<table border=\"1\" class=\"dataframe\">\n  <thead>\n    <tr style=\"text-align: right;\">\n      <th></th>\n      <th>Unnamed: 0</th>\n      <th>Ozone</th>\n      <th>Solar.R</th>\n      <th>Wind</th>\n      <th>Temp</th>\n      <th>Month</th>\n      <th>Day</th>\n    </tr>\n  </thead>\n  <tbody>\n    <tr>\n      <th>0</th>\n      <td>1</td>\n      <td>41.0</td>\n      <td>190.0</td>\n      <td>7.4</td>\n      <td>67</td>\n      <td>5</td>\n      <td>1</td>\n    </tr>\n    <tr>\n      <th>1</th>\n      <td>2</td>\n      <td>36.0</td>\n      <td>118.0</td>\n      <td>8.0</td>\n      <td>72</td>\n      <td>5</td>\n      <td>2</td>\n    </tr>\n    <tr>\n      <th>2</th>\n      <td>3</td>\n      <td>12.0</td>\n      <td>149.0</td>\n      <td>12.6</td>\n      <td>74</td>\n      <td>5</td>\n      <td>3</td>\n    </tr>\n    <tr>\n      <th>3</th>\n      <td>4</td>\n      <td>18.0</td>\n      <td>313.0</td>\n      <td>11.5</td>\n      <td>62</td>\n      <td>5</td>\n      <td>4</td>\n    </tr>\n    <tr>\n      <th>4</th>\n      <td>5</td>\n      <td>NaN</td>\n      <td>NaN</td>\n      <td>14.3</td>\n      <td>56</td>\n      <td>5</td>\n      <td>5</td>\n    </tr>\n    <tr>\n      <th>...</th>\n      <td>...</td>\n      <td>...</td>\n      <td>...</td>\n      <td>...</td>\n      <td>...</td>\n      <td>...</td>\n      <td>...</td>\n    </tr>\n    <tr>\n      <th>148</th>\n      <td>149</td>\n      <td>30.0</td>\n      <td>193.0</td>\n      <td>6.9</td>\n      <td>70</td>\n      <td>9</td>\n      <td>26</td>\n    </tr>\n    <tr>\n      <th>149</th>\n      <td>150</td>\n      <td>NaN</td>\n      <td>145.0</td>\n      <td>13.2</td>\n      <td>77</td>\n      <td>9</td>\n      <td>27</td>\n    </tr>\n    <tr>\n      <th>150</th>\n      <td>151</td>\n      <td>14.0</td>\n      <td>191.0</td>\n      <td>14.3</td>\n      <td>75</td>\n      <td>9</td>\n      <td>28</td>\n    </tr>\n    <tr>\n      <th>151</th>\n      <td>152</td>\n      <td>18.0</td>\n      <td>131.0</td>\n      <td>8.0</td>\n      <td>76</td>\n      <td>9</td>\n      <td>29</td>\n    </tr>\n    <tr>\n      <th>152</th>\n      <td>153</td>\n      <td>20.0</td>\n      <td>223.0</td>\n      <td>11.5</td>\n      <td>68</td>\n      <td>9</td>\n      <td>30</td>\n    </tr>\n  </tbody>\n</table>\n<p>153 rows × 7 columns</p>\n</div>"
          },
          "metadata": {}
        }
      ],
      "execution_count": 2
    },
    {
      "id": "e227c9ed-f09e-46af-bc95-ddf8ceb467b3",
      "cell_type": "code",
      "source": "air.shape",
      "metadata": {
        "trusted": true
      },
      "outputs": [
        {
          "execution_count": 3,
          "output_type": "execute_result",
          "data": {
            "text/plain": "(153, 7)"
          },
          "metadata": {}
        }
      ],
      "execution_count": 3
    },
    {
      "id": "8ef09f67-c5f0-41b2-9597-a391611d3e63",
      "cell_type": "code",
      "source": "air.head(10)",
      "metadata": {
        "trusted": true
      },
      "outputs": [
        {
          "execution_count": 4,
          "output_type": "execute_result",
          "data": {
            "text/plain": "   Unnamed: 0  Ozone  Solar.R  Wind  Temp  Month  Day\n0           1   41.0    190.0   7.4    67      5    1\n1           2   36.0    118.0   8.0    72      5    2\n2           3   12.0    149.0  12.6    74      5    3\n3           4   18.0    313.0  11.5    62      5    4\n4           5    NaN      NaN  14.3    56      5    5\n5           6   28.0      NaN  14.9    66      5    6\n6           7   23.0    299.0   8.6    65      5    7\n7           8   19.0     99.0  13.8    59      5    8\n8           9    8.0     19.0  20.1    61      5    9\n9          10    NaN    194.0   8.6    69      5   10",
            "text/html": "<div>\n<style scoped>\n    .dataframe tbody tr th:only-of-type {\n        vertical-align: middle;\n    }\n\n    .dataframe tbody tr th {\n        vertical-align: top;\n    }\n\n    .dataframe thead th {\n        text-align: right;\n    }\n</style>\n<table border=\"1\" class=\"dataframe\">\n  <thead>\n    <tr style=\"text-align: right;\">\n      <th></th>\n      <th>Unnamed: 0</th>\n      <th>Ozone</th>\n      <th>Solar.R</th>\n      <th>Wind</th>\n      <th>Temp</th>\n      <th>Month</th>\n      <th>Day</th>\n    </tr>\n  </thead>\n  <tbody>\n    <tr>\n      <th>0</th>\n      <td>1</td>\n      <td>41.0</td>\n      <td>190.0</td>\n      <td>7.4</td>\n      <td>67</td>\n      <td>5</td>\n      <td>1</td>\n    </tr>\n    <tr>\n      <th>1</th>\n      <td>2</td>\n      <td>36.0</td>\n      <td>118.0</td>\n      <td>8.0</td>\n      <td>72</td>\n      <td>5</td>\n      <td>2</td>\n    </tr>\n    <tr>\n      <th>2</th>\n      <td>3</td>\n      <td>12.0</td>\n      <td>149.0</td>\n      <td>12.6</td>\n      <td>74</td>\n      <td>5</td>\n      <td>3</td>\n    </tr>\n    <tr>\n      <th>3</th>\n      <td>4</td>\n      <td>18.0</td>\n      <td>313.0</td>\n      <td>11.5</td>\n      <td>62</td>\n      <td>5</td>\n      <td>4</td>\n    </tr>\n    <tr>\n      <th>4</th>\n      <td>5</td>\n      <td>NaN</td>\n      <td>NaN</td>\n      <td>14.3</td>\n      <td>56</td>\n      <td>5</td>\n      <td>5</td>\n    </tr>\n    <tr>\n      <th>5</th>\n      <td>6</td>\n      <td>28.0</td>\n      <td>NaN</td>\n      <td>14.9</td>\n      <td>66</td>\n      <td>5</td>\n      <td>6</td>\n    </tr>\n    <tr>\n      <th>6</th>\n      <td>7</td>\n      <td>23.0</td>\n      <td>299.0</td>\n      <td>8.6</td>\n      <td>65</td>\n      <td>5</td>\n      <td>7</td>\n    </tr>\n    <tr>\n      <th>7</th>\n      <td>8</td>\n      <td>19.0</td>\n      <td>99.0</td>\n      <td>13.8</td>\n      <td>59</td>\n      <td>5</td>\n      <td>8</td>\n    </tr>\n    <tr>\n      <th>8</th>\n      <td>9</td>\n      <td>8.0</td>\n      <td>19.0</td>\n      <td>20.1</td>\n      <td>61</td>\n      <td>5</td>\n      <td>9</td>\n    </tr>\n    <tr>\n      <th>9</th>\n      <td>10</td>\n      <td>NaN</td>\n      <td>194.0</td>\n      <td>8.6</td>\n      <td>69</td>\n      <td>5</td>\n      <td>10</td>\n    </tr>\n  </tbody>\n</table>\n</div>"
          },
          "metadata": {}
        }
      ],
      "execution_count": 4
    },
    {
      "id": "ed83d781-01bf-447f-8e49-ebb8e99947f9",
      "cell_type": "code",
      "source": "air.count()",
      "metadata": {
        "trusted": true
      },
      "outputs": [
        {
          "execution_count": 5,
          "output_type": "execute_result",
          "data": {
            "text/plain": "Unnamed: 0    153\nOzone         116\nSolar.R       146\nWind          153\nTemp          153\nMonth         153\nDay           153\ndtype: int64"
          },
          "metadata": {}
        }
      ],
      "execution_count": 5
    },
    {
      "id": "f22340ec-4710-429f-a3e9-0a233512f643",
      "cell_type": "code",
      "source": "air.isnull().sum()",
      "metadata": {
        "trusted": true
      },
      "outputs": [
        {
          "execution_count": 6,
          "output_type": "execute_result",
          "data": {
            "text/plain": "Unnamed: 0     0\nOzone         37\nSolar.R        7\nWind           0\nTemp           0\nMonth          0\nDay            0\ndtype: int64"
          },
          "metadata": {}
        }
      ],
      "execution_count": 6
    },
    {
      "id": "019ffd46-2121-4f8e-891a-cc7f19722d22",
      "cell_type": "code",
      "source": "air.describe()",
      "metadata": {
        "trusted": true
      },
      "outputs": [
        {
          "execution_count": 7,
          "output_type": "execute_result",
          "data": {
            "text/plain": "       Unnamed: 0       Ozone     Solar.R        Wind        Temp       Month  \\\ncount  153.000000  116.000000  146.000000  153.000000  153.000000  153.000000   \nmean    77.000000   42.129310  185.931507    9.957516   77.882353    6.993464   \nstd     44.311398   32.987885   90.058422    3.523001    9.465270    1.416522   \nmin      1.000000    1.000000    7.000000    1.700000   56.000000    5.000000   \n25%     39.000000   18.000000  115.750000    7.400000   72.000000    6.000000   \n50%     77.000000   31.500000  205.000000    9.700000   79.000000    7.000000   \n75%    115.000000   63.250000  258.750000   11.500000   85.000000    8.000000   \nmax    153.000000  168.000000  334.000000   20.700000   97.000000    9.000000   \n\n              Day  \ncount  153.000000  \nmean    15.803922  \nstd      8.864520  \nmin      1.000000  \n25%      8.000000  \n50%     16.000000  \n75%     23.000000  \nmax     31.000000  ",
            "text/html": "<div>\n<style scoped>\n    .dataframe tbody tr th:only-of-type {\n        vertical-align: middle;\n    }\n\n    .dataframe tbody tr th {\n        vertical-align: top;\n    }\n\n    .dataframe thead th {\n        text-align: right;\n    }\n</style>\n<table border=\"1\" class=\"dataframe\">\n  <thead>\n    <tr style=\"text-align: right;\">\n      <th></th>\n      <th>Unnamed: 0</th>\n      <th>Ozone</th>\n      <th>Solar.R</th>\n      <th>Wind</th>\n      <th>Temp</th>\n      <th>Month</th>\n      <th>Day</th>\n    </tr>\n  </thead>\n  <tbody>\n    <tr>\n      <th>count</th>\n      <td>153.000000</td>\n      <td>116.000000</td>\n      <td>146.000000</td>\n      <td>153.000000</td>\n      <td>153.000000</td>\n      <td>153.000000</td>\n      <td>153.000000</td>\n    </tr>\n    <tr>\n      <th>mean</th>\n      <td>77.000000</td>\n      <td>42.129310</td>\n      <td>185.931507</td>\n      <td>9.957516</td>\n      <td>77.882353</td>\n      <td>6.993464</td>\n      <td>15.803922</td>\n    </tr>\n    <tr>\n      <th>std</th>\n      <td>44.311398</td>\n      <td>32.987885</td>\n      <td>90.058422</td>\n      <td>3.523001</td>\n      <td>9.465270</td>\n      <td>1.416522</td>\n      <td>8.864520</td>\n    </tr>\n    <tr>\n      <th>min</th>\n      <td>1.000000</td>\n      <td>1.000000</td>\n      <td>7.000000</td>\n      <td>1.700000</td>\n      <td>56.000000</td>\n      <td>5.000000</td>\n      <td>1.000000</td>\n    </tr>\n    <tr>\n      <th>25%</th>\n      <td>39.000000</td>\n      <td>18.000000</td>\n      <td>115.750000</td>\n      <td>7.400000</td>\n      <td>72.000000</td>\n      <td>6.000000</td>\n      <td>8.000000</td>\n    </tr>\n    <tr>\n      <th>50%</th>\n      <td>77.000000</td>\n      <td>31.500000</td>\n      <td>205.000000</td>\n      <td>9.700000</td>\n      <td>79.000000</td>\n      <td>7.000000</td>\n      <td>16.000000</td>\n    </tr>\n    <tr>\n      <th>75%</th>\n      <td>115.000000</td>\n      <td>63.250000</td>\n      <td>258.750000</td>\n      <td>11.500000</td>\n      <td>85.000000</td>\n      <td>8.000000</td>\n      <td>23.000000</td>\n    </tr>\n    <tr>\n      <th>max</th>\n      <td>153.000000</td>\n      <td>168.000000</td>\n      <td>334.000000</td>\n      <td>20.700000</td>\n      <td>97.000000</td>\n      <td>9.000000</td>\n      <td>31.000000</td>\n    </tr>\n  </tbody>\n</table>\n</div>"
          },
          "metadata": {}
        }
      ],
      "execution_count": 7
    },
    {
      "id": "47b94a3c-0a3c-41ed-a0bf-b125bf9ca409",
      "cell_type": "code",
      "source": "air.info()",
      "metadata": {
        "trusted": true
      },
      "outputs": [
        {
          "name": "stdout",
          "output_type": "stream",
          "text": "<class 'pandas.core.frame.DataFrame'>\nRangeIndex: 153 entries, 0 to 152\nData columns (total 7 columns):\n #   Column      Non-Null Count  Dtype  \n---  ------      --------------  -----  \n 0   Unnamed: 0  153 non-null    int64  \n 1   Ozone       116 non-null    float64\n 2   Solar.R     146 non-null    float64\n 3   Wind        153 non-null    float64\n 4   Temp        153 non-null    int64  \n 5   Month       153 non-null    int64  \n 6   Day         153 non-null    int64  \ndtypes: float64(3), int64(4)\nmemory usage: 8.4 KB\n"
        }
      ],
      "execution_count": 8
    },
    {
      "id": "e149df0f-3551-49fa-a6ab-8ccaa00930ad",
      "cell_type": "code",
      "source": "a = air.dropna()",
      "metadata": {
        "trusted": true
      },
      "outputs": [],
      "execution_count": 9
    },
    {
      "id": "0acc93dc-19a4-4c58-96a7-a24a3ac24872",
      "cell_type": "code",
      "source": "a.shape",
      "metadata": {
        "trusted": true
      },
      "outputs": [
        {
          "execution_count": 10,
          "output_type": "execute_result",
          "data": {
            "text/plain": "(111, 7)"
          },
          "metadata": {}
        }
      ],
      "execution_count": 10
    },
    {
      "id": "7224b6c7-aefb-411a-8a44-2d275505d7a2",
      "cell_type": "code",
      "source": "a = air.fillna(0)",
      "metadata": {
        "trusted": true
      },
      "outputs": [],
      "execution_count": 11
    },
    {
      "id": "80854058-884a-4a30-9a67-22ae3c89f992",
      "cell_type": "code",
      "source": "a.shape",
      "metadata": {
        "trusted": true
      },
      "outputs": [
        {
          "execution_count": 12,
          "output_type": "execute_result",
          "data": {
            "text/plain": "(153, 7)"
          },
          "metadata": {}
        }
      ],
      "execution_count": 12
    },
    {
      "id": "7ff5adb8-20b2-4322-9239-6cd1a7c4879f",
      "cell_type": "code",
      "source": "a.head(10)",
      "metadata": {
        "trusted": true
      },
      "outputs": [
        {
          "execution_count": 13,
          "output_type": "execute_result",
          "data": {
            "text/plain": "   Unnamed: 0  Ozone  Solar.R  Wind  Temp  Month  Day\n0           1   41.0    190.0   7.4    67      5    1\n1           2   36.0    118.0   8.0    72      5    2\n2           3   12.0    149.0  12.6    74      5    3\n3           4   18.0    313.0  11.5    62      5    4\n4           5    0.0      0.0  14.3    56      5    5\n5           6   28.0      0.0  14.9    66      5    6\n6           7   23.0    299.0   8.6    65      5    7\n7           8   19.0     99.0  13.8    59      5    8\n8           9    8.0     19.0  20.1    61      5    9\n9          10    0.0    194.0   8.6    69      5   10",
            "text/html": "<div>\n<style scoped>\n    .dataframe tbody tr th:only-of-type {\n        vertical-align: middle;\n    }\n\n    .dataframe tbody tr th {\n        vertical-align: top;\n    }\n\n    .dataframe thead th {\n        text-align: right;\n    }\n</style>\n<table border=\"1\" class=\"dataframe\">\n  <thead>\n    <tr style=\"text-align: right;\">\n      <th></th>\n      <th>Unnamed: 0</th>\n      <th>Ozone</th>\n      <th>Solar.R</th>\n      <th>Wind</th>\n      <th>Temp</th>\n      <th>Month</th>\n      <th>Day</th>\n    </tr>\n  </thead>\n  <tbody>\n    <tr>\n      <th>0</th>\n      <td>1</td>\n      <td>41.0</td>\n      <td>190.0</td>\n      <td>7.4</td>\n      <td>67</td>\n      <td>5</td>\n      <td>1</td>\n    </tr>\n    <tr>\n      <th>1</th>\n      <td>2</td>\n      <td>36.0</td>\n      <td>118.0</td>\n      <td>8.0</td>\n      <td>72</td>\n      <td>5</td>\n      <td>2</td>\n    </tr>\n    <tr>\n      <th>2</th>\n      <td>3</td>\n      <td>12.0</td>\n      <td>149.0</td>\n      <td>12.6</td>\n      <td>74</td>\n      <td>5</td>\n      <td>3</td>\n    </tr>\n    <tr>\n      <th>3</th>\n      <td>4</td>\n      <td>18.0</td>\n      <td>313.0</td>\n      <td>11.5</td>\n      <td>62</td>\n      <td>5</td>\n      <td>4</td>\n    </tr>\n    <tr>\n      <th>4</th>\n      <td>5</td>\n      <td>0.0</td>\n      <td>0.0</td>\n      <td>14.3</td>\n      <td>56</td>\n      <td>5</td>\n      <td>5</td>\n    </tr>\n    <tr>\n      <th>5</th>\n      <td>6</td>\n      <td>28.0</td>\n      <td>0.0</td>\n      <td>14.9</td>\n      <td>66</td>\n      <td>5</td>\n      <td>6</td>\n    </tr>\n    <tr>\n      <th>6</th>\n      <td>7</td>\n      <td>23.0</td>\n      <td>299.0</td>\n      <td>8.6</td>\n      <td>65</td>\n      <td>5</td>\n      <td>7</td>\n    </tr>\n    <tr>\n      <th>7</th>\n      <td>8</td>\n      <td>19.0</td>\n      <td>99.0</td>\n      <td>13.8</td>\n      <td>59</td>\n      <td>5</td>\n      <td>8</td>\n    </tr>\n    <tr>\n      <th>8</th>\n      <td>9</td>\n      <td>8.0</td>\n      <td>19.0</td>\n      <td>20.1</td>\n      <td>61</td>\n      <td>5</td>\n      <td>9</td>\n    </tr>\n    <tr>\n      <th>9</th>\n      <td>10</td>\n      <td>0.0</td>\n      <td>194.0</td>\n      <td>8.6</td>\n      <td>69</td>\n      <td>5</td>\n      <td>10</td>\n    </tr>\n  </tbody>\n</table>\n</div>"
          },
          "metadata": {}
        }
      ],
      "execution_count": 13
    },
    {
      "id": "ddb85f1c-4a56-4626-8e53-912ce5fb22ac",
      "cell_type": "code",
      "source": "a = air.fillna(method='pad')",
      "metadata": {
        "trusted": true
      },
      "outputs": [
        {
          "name": "stderr",
          "output_type": "stream",
          "text": "<ipython-input-14-85de04364233>:1: FutureWarning: DataFrame.fillna with 'method' is deprecated and will raise in a future version. Use obj.ffill() or obj.bfill() instead.\n  a = air.fillna(method='pad')\n"
        }
      ],
      "execution_count": 14
    },
    {
      "id": "98054a0b-fd8a-477f-a6f1-1343111909ef",
      "cell_type": "code",
      "source": "a.head(10)",
      "metadata": {
        "trusted": true
      },
      "outputs": [
        {
          "execution_count": 15,
          "output_type": "execute_result",
          "data": {
            "text/plain": "   Unnamed: 0  Ozone  Solar.R  Wind  Temp  Month  Day\n0           1   41.0    190.0   7.4    67      5    1\n1           2   36.0    118.0   8.0    72      5    2\n2           3   12.0    149.0  12.6    74      5    3\n3           4   18.0    313.0  11.5    62      5    4\n4           5   18.0    313.0  14.3    56      5    5\n5           6   28.0    313.0  14.9    66      5    6\n6           7   23.0    299.0   8.6    65      5    7\n7           8   19.0     99.0  13.8    59      5    8\n8           9    8.0     19.0  20.1    61      5    9\n9          10    8.0    194.0   8.6    69      5   10",
            "text/html": "<div>\n<style scoped>\n    .dataframe tbody tr th:only-of-type {\n        vertical-align: middle;\n    }\n\n    .dataframe tbody tr th {\n        vertical-align: top;\n    }\n\n    .dataframe thead th {\n        text-align: right;\n    }\n</style>\n<table border=\"1\" class=\"dataframe\">\n  <thead>\n    <tr style=\"text-align: right;\">\n      <th></th>\n      <th>Unnamed: 0</th>\n      <th>Ozone</th>\n      <th>Solar.R</th>\n      <th>Wind</th>\n      <th>Temp</th>\n      <th>Month</th>\n      <th>Day</th>\n    </tr>\n  </thead>\n  <tbody>\n    <tr>\n      <th>0</th>\n      <td>1</td>\n      <td>41.0</td>\n      <td>190.0</td>\n      <td>7.4</td>\n      <td>67</td>\n      <td>5</td>\n      <td>1</td>\n    </tr>\n    <tr>\n      <th>1</th>\n      <td>2</td>\n      <td>36.0</td>\n      <td>118.0</td>\n      <td>8.0</td>\n      <td>72</td>\n      <td>5</td>\n      <td>2</td>\n    </tr>\n    <tr>\n      <th>2</th>\n      <td>3</td>\n      <td>12.0</td>\n      <td>149.0</td>\n      <td>12.6</td>\n      <td>74</td>\n      <td>5</td>\n      <td>3</td>\n    </tr>\n    <tr>\n      <th>3</th>\n      <td>4</td>\n      <td>18.0</td>\n      <td>313.0</td>\n      <td>11.5</td>\n      <td>62</td>\n      <td>5</td>\n      <td>4</td>\n    </tr>\n    <tr>\n      <th>4</th>\n      <td>5</td>\n      <td>18.0</td>\n      <td>313.0</td>\n      <td>14.3</td>\n      <td>56</td>\n      <td>5</td>\n      <td>5</td>\n    </tr>\n    <tr>\n      <th>5</th>\n      <td>6</td>\n      <td>28.0</td>\n      <td>313.0</td>\n      <td>14.9</td>\n      <td>66</td>\n      <td>5</td>\n      <td>6</td>\n    </tr>\n    <tr>\n      <th>6</th>\n      <td>7</td>\n      <td>23.0</td>\n      <td>299.0</td>\n      <td>8.6</td>\n      <td>65</td>\n      <td>5</td>\n      <td>7</td>\n    </tr>\n    <tr>\n      <th>7</th>\n      <td>8</td>\n      <td>19.0</td>\n      <td>99.0</td>\n      <td>13.8</td>\n      <td>59</td>\n      <td>5</td>\n      <td>8</td>\n    </tr>\n    <tr>\n      <th>8</th>\n      <td>9</td>\n      <td>8.0</td>\n      <td>19.0</td>\n      <td>20.1</td>\n      <td>61</td>\n      <td>5</td>\n      <td>9</td>\n    </tr>\n    <tr>\n      <th>9</th>\n      <td>10</td>\n      <td>8.0</td>\n      <td>194.0</td>\n      <td>8.6</td>\n      <td>69</td>\n      <td>5</td>\n      <td>10</td>\n    </tr>\n  </tbody>\n</table>\n</div>"
          },
          "metadata": {}
        }
      ],
      "execution_count": 15
    },
    {
      "id": "63351997-ebd1-4204-b732-80c42d079d95",
      "cell_type": "code",
      "source": "a = air.fillna(method='backfill')",
      "metadata": {
        "trusted": true
      },
      "outputs": [
        {
          "name": "stderr",
          "output_type": "stream",
          "text": "<ipython-input-16-218124cf3282>:1: FutureWarning: DataFrame.fillna with 'method' is deprecated and will raise in a future version. Use obj.ffill() or obj.bfill() instead.\n  a = air.fillna(method='backfill')\n"
        }
      ],
      "execution_count": 16
    },
    {
      "id": "1ba630a5-e45a-437a-8e52-446543eba2e7",
      "cell_type": "code",
      "source": "a.head(10)",
      "metadata": {
        "trusted": true
      },
      "outputs": [
        {
          "execution_count": 17,
          "output_type": "execute_result",
          "data": {
            "text/plain": "   Unnamed: 0  Ozone  Solar.R  Wind  Temp  Month  Day\n0           1   41.0    190.0   7.4    67      5    1\n1           2   36.0    118.0   8.0    72      5    2\n2           3   12.0    149.0  12.6    74      5    3\n3           4   18.0    313.0  11.5    62      5    4\n4           5   28.0    299.0  14.3    56      5    5\n5           6   28.0    299.0  14.9    66      5    6\n6           7   23.0    299.0   8.6    65      5    7\n7           8   19.0     99.0  13.8    59      5    8\n8           9    8.0     19.0  20.1    61      5    9\n9          10    7.0    194.0   8.6    69      5   10",
            "text/html": "<div>\n<style scoped>\n    .dataframe tbody tr th:only-of-type {\n        vertical-align: middle;\n    }\n\n    .dataframe tbody tr th {\n        vertical-align: top;\n    }\n\n    .dataframe thead th {\n        text-align: right;\n    }\n</style>\n<table border=\"1\" class=\"dataframe\">\n  <thead>\n    <tr style=\"text-align: right;\">\n      <th></th>\n      <th>Unnamed: 0</th>\n      <th>Ozone</th>\n      <th>Solar.R</th>\n      <th>Wind</th>\n      <th>Temp</th>\n      <th>Month</th>\n      <th>Day</th>\n    </tr>\n  </thead>\n  <tbody>\n    <tr>\n      <th>0</th>\n      <td>1</td>\n      <td>41.0</td>\n      <td>190.0</td>\n      <td>7.4</td>\n      <td>67</td>\n      <td>5</td>\n      <td>1</td>\n    </tr>\n    <tr>\n      <th>1</th>\n      <td>2</td>\n      <td>36.0</td>\n      <td>118.0</td>\n      <td>8.0</td>\n      <td>72</td>\n      <td>5</td>\n      <td>2</td>\n    </tr>\n    <tr>\n      <th>2</th>\n      <td>3</td>\n      <td>12.0</td>\n      <td>149.0</td>\n      <td>12.6</td>\n      <td>74</td>\n      <td>5</td>\n      <td>3</td>\n    </tr>\n    <tr>\n      <th>3</th>\n      <td>4</td>\n      <td>18.0</td>\n      <td>313.0</td>\n      <td>11.5</td>\n      <td>62</td>\n      <td>5</td>\n      <td>4</td>\n    </tr>\n    <tr>\n      <th>4</th>\n      <td>5</td>\n      <td>28.0</td>\n      <td>299.0</td>\n      <td>14.3</td>\n      <td>56</td>\n      <td>5</td>\n      <td>5</td>\n    </tr>\n    <tr>\n      <th>5</th>\n      <td>6</td>\n      <td>28.0</td>\n      <td>299.0</td>\n      <td>14.9</td>\n      <td>66</td>\n      <td>5</td>\n      <td>6</td>\n    </tr>\n    <tr>\n      <th>6</th>\n      <td>7</td>\n      <td>23.0</td>\n      <td>299.0</td>\n      <td>8.6</td>\n      <td>65</td>\n      <td>5</td>\n      <td>7</td>\n    </tr>\n    <tr>\n      <th>7</th>\n      <td>8</td>\n      <td>19.0</td>\n      <td>99.0</td>\n      <td>13.8</td>\n      <td>59</td>\n      <td>5</td>\n      <td>8</td>\n    </tr>\n    <tr>\n      <th>8</th>\n      <td>9</td>\n      <td>8.0</td>\n      <td>19.0</td>\n      <td>20.1</td>\n      <td>61</td>\n      <td>5</td>\n      <td>9</td>\n    </tr>\n    <tr>\n      <th>9</th>\n      <td>10</td>\n      <td>7.0</td>\n      <td>194.0</td>\n      <td>8.6</td>\n      <td>69</td>\n      <td>5</td>\n      <td>10</td>\n    </tr>\n  </tbody>\n</table>\n</div>"
          },
          "metadata": {}
        }
      ],
      "execution_count": 17
    },
    {
      "id": "c0bff97c-403c-4e32-943d-ea96ac4c40d0",
      "cell_type": "code",
      "source": "import numpy as np",
      "metadata": {
        "trusted": true
      },
      "outputs": [],
      "execution_count": 18
    },
    {
      "id": "ca66da7d-7b46-4615-b21f-5fcf258dd1c9",
      "cell_type": "code",
      "source": "a = air['Ozone'].fillna(air['Ozone'].mean())",
      "metadata": {
        "trusted": true
      },
      "outputs": [],
      "execution_count": 24
    },
    {
      "id": "46b2d9f1-49c8-411d-805b-5b79494c64dd",
      "cell_type": "code",
      "source": "a.head()",
      "metadata": {
        "trusted": true
      },
      "outputs": [
        {
          "execution_count": 25,
          "output_type": "execute_result",
          "data": {
            "text/plain": "0    41.00000\n1    36.00000\n2    12.00000\n3    18.00000\n4    42.12931\nName: Ozone, dtype: float64"
          },
          "metadata": {}
        }
      ],
      "execution_count": 25
    },
    {
      "id": "1917baf5-1216-43fd-a516-c9a5d726e0c0",
      "cell_type": "code",
      "source": "a = air['Ozone'].fillna(air['Ozone'].median())\na.head()",
      "metadata": {
        "trusted": true
      },
      "outputs": [
        {
          "execution_count": 27,
          "output_type": "execute_result",
          "data": {
            "text/plain": "0    41.0\n1    36.0\n2    12.0\n3    18.0\n4    31.5\nName: Ozone, dtype: float64"
          },
          "metadata": {}
        }
      ],
      "execution_count": 27
    },
    {
      "id": "fa973d16-7487-4ede-95f6-19faec234239",
      "cell_type": "code",
      "source": "from sklearn.impute import SimpleImputer\n",
      "metadata": {
        "trusted": true
      },
      "outputs": [],
      "execution_count": 36
    },
    {
      "id": "ecee4e0c-9a99-4b29-961d-7982b1889e3a",
      "cell_type": "code",
      "source": "imp = SimpleImputer(missing_values = np.nan,strategy = 'mean')",
      "metadata": {
        "trusted": true
      },
      "outputs": [],
      "execution_count": 37
    },
    {
      "id": "89f3d274-8aae-4777-8bfc-ef380fc6abf0",
      "cell_type": "code",
      "source": "A = imp.fit_transform(air)\nA",
      "metadata": {
        "trusted": true
      },
      "outputs": [
        {
          "execution_count": 38,
          "output_type": "execute_result",
          "data": {
            "text/plain": "array([[  1.,  41., 190., ...,  67.,   5.,   1.],\n       [  2.,  36., 118., ...,  72.,   5.,   2.],\n       [  3.,  12., 149., ...,  74.,   5.,   3.],\n       ...,\n       [151.,  14., 191., ...,  75.,   9.,  28.],\n       [152.,  18., 131., ...,  76.,   9.,  29.],\n       [153.,  20., 223., ...,  68.,   9.,  30.]])"
          },
          "metadata": {}
        }
      ],
      "execution_count": 38
    },
    {
      "id": "fb8de0cf-82d5-4a8f-b311-8783f0aa279c",
      "cell_type": "code",
      "source": "imp = SimpleImputer(missing_values = np.nan, strategy='most_frequent')",
      "metadata": {
        "trusted": true
      },
      "outputs": [],
      "execution_count": 39
    },
    {
      "id": "009c7096-4e34-4917-afaa-71d9b2966848",
      "cell_type": "code",
      "source": "A = imp.fit_transform(air)\nA",
      "metadata": {
        "trusted": true
      },
      "outputs": [
        {
          "execution_count": 40,
          "output_type": "execute_result",
          "data": {
            "text/plain": "array([[  1.,  41., 190., ...,  67.,   5.,   1.],\n       [  2.,  36., 118., ...,  72.,   5.,   2.],\n       [  3.,  12., 149., ...,  74.,   5.,   3.],\n       ...,\n       [151.,  14., 191., ...,  75.,   9.,  28.],\n       [152.,  18., 131., ...,  76.,   9.,  29.],\n       [153.,  20., 223., ...,  68.,   9.,  30.]])"
          },
          "metadata": {}
        }
      ],
      "execution_count": 40
    },
    {
      "id": "9e8a44f4-782b-4ad5-8904-630516a81135",
      "cell_type": "code",
      "source": "A = pd.DataFrame(A, columns = air.columns)\nA.head()",
      "metadata": {
        "trusted": true
      },
      "outputs": [
        {
          "execution_count": 42,
          "output_type": "execute_result",
          "data": {
            "text/plain": "   Unnamed: 0  Ozone  Solar.R  Wind  Temp  Month  Day\n0         1.0   41.0    190.0   7.4  67.0    5.0  1.0\n1         2.0   36.0    118.0   8.0  72.0    5.0  2.0\n2         3.0   12.0    149.0  12.6  74.0    5.0  3.0\n3         4.0   18.0    313.0  11.5  62.0    5.0  4.0\n4         5.0   23.0    238.0  14.3  56.0    5.0  5.0",
            "text/html": "<div>\n<style scoped>\n    .dataframe tbody tr th:only-of-type {\n        vertical-align: middle;\n    }\n\n    .dataframe tbody tr th {\n        vertical-align: top;\n    }\n\n    .dataframe thead th {\n        text-align: right;\n    }\n</style>\n<table border=\"1\" class=\"dataframe\">\n  <thead>\n    <tr style=\"text-align: right;\">\n      <th></th>\n      <th>Unnamed: 0</th>\n      <th>Ozone</th>\n      <th>Solar.R</th>\n      <th>Wind</th>\n      <th>Temp</th>\n      <th>Month</th>\n      <th>Day</th>\n    </tr>\n  </thead>\n  <tbody>\n    <tr>\n      <th>0</th>\n      <td>1.0</td>\n      <td>41.0</td>\n      <td>190.0</td>\n      <td>7.4</td>\n      <td>67.0</td>\n      <td>5.0</td>\n      <td>1.0</td>\n    </tr>\n    <tr>\n      <th>1</th>\n      <td>2.0</td>\n      <td>36.0</td>\n      <td>118.0</td>\n      <td>8.0</td>\n      <td>72.0</td>\n      <td>5.0</td>\n      <td>2.0</td>\n    </tr>\n    <tr>\n      <th>2</th>\n      <td>3.0</td>\n      <td>12.0</td>\n      <td>149.0</td>\n      <td>12.6</td>\n      <td>74.0</td>\n      <td>5.0</td>\n      <td>3.0</td>\n    </tr>\n    <tr>\n      <th>3</th>\n      <td>4.0</td>\n      <td>18.0</td>\n      <td>313.0</td>\n      <td>11.5</td>\n      <td>62.0</td>\n      <td>5.0</td>\n      <td>4.0</td>\n    </tr>\n    <tr>\n      <th>4</th>\n      <td>5.0</td>\n      <td>23.0</td>\n      <td>238.0</td>\n      <td>14.3</td>\n      <td>56.0</td>\n      <td>5.0</td>\n      <td>5.0</td>\n    </tr>\n  </tbody>\n</table>\n</div>"
          },
          "metadata": {}
        }
      ],
      "execution_count": 42
    },
    {
      "id": "14b61dfb-e256-444d-acbd-312cc0d6a54d",
      "cell_type": "code",
      "source": "from sklearn.model_selection import train_test_split",
      "metadata": {
        "trusted": true
      },
      "outputs": [],
      "execution_count": 43
    },
    {
      "id": "2bf94f1d-9521-48e7-a771-41052d9e814f",
      "cell_type": "code",
      "source": "len(A)",
      "metadata": {
        "trusted": true
      },
      "outputs": [
        {
          "execution_count": 44,
          "output_type": "execute_result",
          "data": {
            "text/plain": "153"
          },
          "metadata": {}
        }
      ],
      "execution_count": 44
    },
    {
      "id": "c4a1aee5-e5ed-4f26-8899-03527c7ef816",
      "cell_type": "code",
      "source": "train, test = train_test_split(A)",
      "metadata": {
        "trusted": true
      },
      "outputs": [],
      "execution_count": 45
    },
    {
      "id": "d77b4a9d-29de-48e9-b5cf-ea3d2339d82e",
      "cell_type": "code",
      "source": "len(train)",
      "metadata": {
        "trusted": true
      },
      "outputs": [
        {
          "execution_count": 46,
          "output_type": "execute_result",
          "data": {
            "text/plain": "114"
          },
          "metadata": {}
        }
      ],
      "execution_count": 46
    },
    {
      "id": "1cddfef5-2f8a-4e9c-8e29-0689d36e6867",
      "cell_type": "code",
      "source": "len(test)",
      "metadata": {
        "trusted": true
      },
      "outputs": [
        {
          "execution_count": 47,
          "output_type": "execute_result",
          "data": {
            "text/plain": "39"
          },
          "metadata": {}
        }
      ],
      "execution_count": 47
    },
    {
      "id": "e121daad-0e3e-4dd4-94ca-1ef7a1297e09",
      "cell_type": "code",
      "source": "train.head()",
      "metadata": {
        "trusted": true
      },
      "outputs": [
        {
          "execution_count": 48,
          "output_type": "execute_result",
          "data": {
            "text/plain": "     Unnamed: 0  Ozone  Solar.R  Wind  Temp  Month   Day\n116       117.0  168.0    238.0   3.4  81.0    8.0  25.0\n149       150.0   23.0    145.0  13.2  77.0    9.0  27.0\n0           1.0   41.0    190.0   7.4  67.0    5.0   1.0\n21         22.0   11.0    320.0  16.6  73.0    5.0  22.0\n104       105.0   28.0    273.0  11.5  82.0    8.0  13.0",
            "text/html": "<div>\n<style scoped>\n    .dataframe tbody tr th:only-of-type {\n        vertical-align: middle;\n    }\n\n    .dataframe tbody tr th {\n        vertical-align: top;\n    }\n\n    .dataframe thead th {\n        text-align: right;\n    }\n</style>\n<table border=\"1\" class=\"dataframe\">\n  <thead>\n    <tr style=\"text-align: right;\">\n      <th></th>\n      <th>Unnamed: 0</th>\n      <th>Ozone</th>\n      <th>Solar.R</th>\n      <th>Wind</th>\n      <th>Temp</th>\n      <th>Month</th>\n      <th>Day</th>\n    </tr>\n  </thead>\n  <tbody>\n    <tr>\n      <th>116</th>\n      <td>117.0</td>\n      <td>168.0</td>\n      <td>238.0</td>\n      <td>3.4</td>\n      <td>81.0</td>\n      <td>8.0</td>\n      <td>25.0</td>\n    </tr>\n    <tr>\n      <th>149</th>\n      <td>150.0</td>\n      <td>23.0</td>\n      <td>145.0</td>\n      <td>13.2</td>\n      <td>77.0</td>\n      <td>9.0</td>\n      <td>27.0</td>\n    </tr>\n    <tr>\n      <th>0</th>\n      <td>1.0</td>\n      <td>41.0</td>\n      <td>190.0</td>\n      <td>7.4</td>\n      <td>67.0</td>\n      <td>5.0</td>\n      <td>1.0</td>\n    </tr>\n    <tr>\n      <th>21</th>\n      <td>22.0</td>\n      <td>11.0</td>\n      <td>320.0</td>\n      <td>16.6</td>\n      <td>73.0</td>\n      <td>5.0</td>\n      <td>22.0</td>\n    </tr>\n    <tr>\n      <th>104</th>\n      <td>105.0</td>\n      <td>28.0</td>\n      <td>273.0</td>\n      <td>11.5</td>\n      <td>82.0</td>\n      <td>8.0</td>\n      <td>13.0</td>\n    </tr>\n  </tbody>\n</table>\n</div>"
          },
          "metadata": {}
        }
      ],
      "execution_count": 48
    },
    {
      "id": "74b50e63-075d-4bac-96c4-67df9f8b2023",
      "cell_type": "code",
      "source": "train, test = train_test_split(A, test_size = 0.20)",
      "metadata": {
        "trusted": true
      },
      "outputs": [],
      "execution_count": 49
    },
    {
      "id": "62241700-ae1c-42c6-b53e-438070556d7b",
      "cell_type": "code",
      "source": "len(test)",
      "metadata": {
        "trusted": true
      },
      "outputs": [
        {
          "execution_count": 50,
          "output_type": "execute_result",
          "data": {
            "text/plain": "31"
          },
          "metadata": {}
        }
      ],
      "execution_count": 50
    },
    {
      "id": "b0dc3432-87c6-421a-b19c-a53d92cc3b82",
      "cell_type": "code",
      "source": "len(train)",
      "metadata": {
        "trusted": true
      },
      "outputs": [
        {
          "execution_count": 51,
          "output_type": "execute_result",
          "data": {
            "text/plain": "122"
          },
          "metadata": {}
        }
      ],
      "execution_count": 51
    },
    {
      "id": "9468aa2f-c5f1-4099-8681-a06a4da90874",
      "cell_type": "code",
      "source": "A.describe()",
      "metadata": {
        "trusted": true
      },
      "outputs": [
        {
          "execution_count": 52,
          "output_type": "execute_result",
          "data": {
            "text/plain": "       Unnamed: 0       Ozone     Solar.R        Wind        Temp       Month  \\\ncount  153.000000  153.000000  153.000000  153.000000  153.000000  153.000000   \nmean    77.000000   37.503268  188.313725    9.957516   77.882353    6.993464   \nstd     44.311398   29.847006   88.634931    3.523001    9.465270    1.416522   \nmin      1.000000    1.000000    7.000000    1.700000   56.000000    5.000000   \n25%     39.000000   21.000000  120.000000    7.400000   72.000000    6.000000   \n50%     77.000000   23.000000  215.000000    9.700000   79.000000    7.000000   \n75%    115.000000   46.000000  256.000000   11.500000   85.000000    8.000000   \nmax    153.000000  168.000000  334.000000   20.700000   97.000000    9.000000   \n\n              Day  \ncount  153.000000  \nmean    15.803922  \nstd      8.864520  \nmin      1.000000  \n25%      8.000000  \n50%     16.000000  \n75%     23.000000  \nmax     31.000000  ",
            "text/html": "<div>\n<style scoped>\n    .dataframe tbody tr th:only-of-type {\n        vertical-align: middle;\n    }\n\n    .dataframe tbody tr th {\n        vertical-align: top;\n    }\n\n    .dataframe thead th {\n        text-align: right;\n    }\n</style>\n<table border=\"1\" class=\"dataframe\">\n  <thead>\n    <tr style=\"text-align: right;\">\n      <th></th>\n      <th>Unnamed: 0</th>\n      <th>Ozone</th>\n      <th>Solar.R</th>\n      <th>Wind</th>\n      <th>Temp</th>\n      <th>Month</th>\n      <th>Day</th>\n    </tr>\n  </thead>\n  <tbody>\n    <tr>\n      <th>count</th>\n      <td>153.000000</td>\n      <td>153.000000</td>\n      <td>153.000000</td>\n      <td>153.000000</td>\n      <td>153.000000</td>\n      <td>153.000000</td>\n      <td>153.000000</td>\n    </tr>\n    <tr>\n      <th>mean</th>\n      <td>77.000000</td>\n      <td>37.503268</td>\n      <td>188.313725</td>\n      <td>9.957516</td>\n      <td>77.882353</td>\n      <td>6.993464</td>\n      <td>15.803922</td>\n    </tr>\n    <tr>\n      <th>std</th>\n      <td>44.311398</td>\n      <td>29.847006</td>\n      <td>88.634931</td>\n      <td>3.523001</td>\n      <td>9.465270</td>\n      <td>1.416522</td>\n      <td>8.864520</td>\n    </tr>\n    <tr>\n      <th>min</th>\n      <td>1.000000</td>\n      <td>1.000000</td>\n      <td>7.000000</td>\n      <td>1.700000</td>\n      <td>56.000000</td>\n      <td>5.000000</td>\n      <td>1.000000</td>\n    </tr>\n    <tr>\n      <th>25%</th>\n      <td>39.000000</td>\n      <td>21.000000</td>\n      <td>120.000000</td>\n      <td>7.400000</td>\n      <td>72.000000</td>\n      <td>6.000000</td>\n      <td>8.000000</td>\n    </tr>\n    <tr>\n      <th>50%</th>\n      <td>77.000000</td>\n      <td>23.000000</td>\n      <td>215.000000</td>\n      <td>9.700000</td>\n      <td>79.000000</td>\n      <td>7.000000</td>\n      <td>16.000000</td>\n    </tr>\n    <tr>\n      <th>75%</th>\n      <td>115.000000</td>\n      <td>46.000000</td>\n      <td>256.000000</td>\n      <td>11.500000</td>\n      <td>85.000000</td>\n      <td>8.000000</td>\n      <td>23.000000</td>\n    </tr>\n    <tr>\n      <th>max</th>\n      <td>153.000000</td>\n      <td>168.000000</td>\n      <td>334.000000</td>\n      <td>20.700000</td>\n      <td>97.000000</td>\n      <td>9.000000</td>\n      <td>31.000000</td>\n    </tr>\n  </tbody>\n</table>\n</div>"
          },
          "metadata": {}
        }
      ],
      "execution_count": 52
    },
    {
      "id": "50ca3f36-7d0c-4679-8eff-0aec87a7c1df",
      "cell_type": "code",
      "source": "from sklearn.preprocessing import StandardScaler",
      "metadata": {
        "trusted": true
      },
      "outputs": [],
      "execution_count": 53
    },
    {
      "id": "61c399d2-cbee-42fc-b7a7-3d96542d119e",
      "cell_type": "code",
      "source": "scaler = StandardScaler()",
      "metadata": {
        "trusted": true
      },
      "outputs": [],
      "execution_count": 54
    },
    {
      "id": "e2ec430f-a398-407c-a33e-5995166efb79",
      "cell_type": "code",
      "source": "B = scaler.fit_transform(A)",
      "metadata": {
        "trusted": true
      },
      "outputs": [],
      "execution_count": 55
    },
    {
      "id": "2cd3844f-73a7-449b-9528-3856b160bfb2",
      "cell_type": "code",
      "source": "pd.DataFrame(B).describe()",
      "metadata": {
        "trusted": true
      },
      "outputs": [
        {
          "execution_count": 56,
          "output_type": "execute_result",
          "data": {
            "text/plain": "                  0             1             2             3             4  \\\ncount  1.530000e+02  1.530000e+02  1.530000e+02  1.530000e+02  1.530000e+02   \nmean   9.288140e-17 -9.288140e-17  1.161018e-17 -2.322035e-17  7.430512e-16   \nstd    1.003284e+00  1.003284e+00  1.003284e+00  1.003284e+00  1.003284e+00   \nmin   -1.720767e+00 -1.227029e+00 -2.052342e+00 -2.351584e+00 -2.319450e+00   \n25%   -8.603835e-01 -5.547446e-01 -7.732626e-01 -7.283322e-01 -6.235080e-01   \n50%    0.000000e+00 -4.875162e-01  3.020696e-01 -7.333578e-02  1.184665e-01   \n75%    8.603835e-01  2.856111e-01  7.661603e-01  4.392701e-01  7.544446e-01   \nmax    1.720767e+00  4.386547e+00  1.649065e+00  3.059256e+00  2.026401e+00   \n\n                5             6  \ncount  153.000000  1.530000e+02  \nmean     0.000000 -6.966105e-17  \nstd      1.003284  1.003284e+00  \nmin     -1.411916 -1.675504e+00  \n25%     -0.703643 -8.832458e-01  \n50%      0.004629  2.219211e-02  \n75%      0.712902  8.144503e-01  \nmax      1.421174  1.719888e+00  ",
            "text/html": "<div>\n<style scoped>\n    .dataframe tbody tr th:only-of-type {\n        vertical-align: middle;\n    }\n\n    .dataframe tbody tr th {\n        vertical-align: top;\n    }\n\n    .dataframe thead th {\n        text-align: right;\n    }\n</style>\n<table border=\"1\" class=\"dataframe\">\n  <thead>\n    <tr style=\"text-align: right;\">\n      <th></th>\n      <th>0</th>\n      <th>1</th>\n      <th>2</th>\n      <th>3</th>\n      <th>4</th>\n      <th>5</th>\n      <th>6</th>\n    </tr>\n  </thead>\n  <tbody>\n    <tr>\n      <th>count</th>\n      <td>1.530000e+02</td>\n      <td>1.530000e+02</td>\n      <td>1.530000e+02</td>\n      <td>1.530000e+02</td>\n      <td>1.530000e+02</td>\n      <td>153.000000</td>\n      <td>1.530000e+02</td>\n    </tr>\n    <tr>\n      <th>mean</th>\n      <td>9.288140e-17</td>\n      <td>-9.288140e-17</td>\n      <td>1.161018e-17</td>\n      <td>-2.322035e-17</td>\n      <td>7.430512e-16</td>\n      <td>0.000000</td>\n      <td>-6.966105e-17</td>\n    </tr>\n    <tr>\n      <th>std</th>\n      <td>1.003284e+00</td>\n      <td>1.003284e+00</td>\n      <td>1.003284e+00</td>\n      <td>1.003284e+00</td>\n      <td>1.003284e+00</td>\n      <td>1.003284</td>\n      <td>1.003284e+00</td>\n    </tr>\n    <tr>\n      <th>min</th>\n      <td>-1.720767e+00</td>\n      <td>-1.227029e+00</td>\n      <td>-2.052342e+00</td>\n      <td>-2.351584e+00</td>\n      <td>-2.319450e+00</td>\n      <td>-1.411916</td>\n      <td>-1.675504e+00</td>\n    </tr>\n    <tr>\n      <th>25%</th>\n      <td>-8.603835e-01</td>\n      <td>-5.547446e-01</td>\n      <td>-7.732626e-01</td>\n      <td>-7.283322e-01</td>\n      <td>-6.235080e-01</td>\n      <td>-0.703643</td>\n      <td>-8.832458e-01</td>\n    </tr>\n    <tr>\n      <th>50%</th>\n      <td>0.000000e+00</td>\n      <td>-4.875162e-01</td>\n      <td>3.020696e-01</td>\n      <td>-7.333578e-02</td>\n      <td>1.184665e-01</td>\n      <td>0.004629</td>\n      <td>2.219211e-02</td>\n    </tr>\n    <tr>\n      <th>75%</th>\n      <td>8.603835e-01</td>\n      <td>2.856111e-01</td>\n      <td>7.661603e-01</td>\n      <td>4.392701e-01</td>\n      <td>7.544446e-01</td>\n      <td>0.712902</td>\n      <td>8.144503e-01</td>\n    </tr>\n    <tr>\n      <th>max</th>\n      <td>1.720767e+00</td>\n      <td>4.386547e+00</td>\n      <td>1.649065e+00</td>\n      <td>3.059256e+00</td>\n      <td>2.026401e+00</td>\n      <td>1.421174</td>\n      <td>1.719888e+00</td>\n    </tr>\n  </tbody>\n</table>\n</div>"
          },
          "metadata": {}
        }
      ],
      "execution_count": 56
    },
    {
      "id": "a7f3ab33-99f7-4388-b608-0f68107f3cc2",
      "cell_type": "code",
      "source": "from sklearn.linear_model import LinearRegression",
      "metadata": {
        "trusted": true
      },
      "outputs": [],
      "execution_count": 57
    },
    {
      "id": "ce067738-bdf2-4dba-a213-c379ddbbaef8",
      "cell_type": "code",
      "source": "X = A['Ozone'].values",
      "metadata": {
        "trusted": true
      },
      "outputs": [],
      "execution_count": 58
    },
    {
      "id": "f610aa09-7a7a-4d55-a899-871c50d2b58b",
      "cell_type": "code",
      "source": "X = X.reshape(-1, 1)\nX",
      "metadata": {
        "trusted": true
      },
      "outputs": [
        {
          "execution_count": 60,
          "output_type": "execute_result",
          "data": {
            "text/plain": "array([[ 41.],\n       [ 36.],\n       [ 12.],\n       [ 18.],\n       [ 23.],\n       [ 28.],\n       [ 23.],\n       [ 19.],\n       [  8.],\n       [ 23.],\n       [  7.],\n       [ 16.],\n       [ 11.],\n       [ 14.],\n       [ 18.],\n       [ 14.],\n       [ 34.],\n       [  6.],\n       [ 30.],\n       [ 11.],\n       [  1.],\n       [ 11.],\n       [  4.],\n       [ 32.],\n       [ 23.],\n       [ 23.],\n       [ 23.],\n       [ 23.],\n       [ 45.],\n       [115.],\n       [ 37.],\n       [ 23.],\n       [ 23.],\n       [ 23.],\n       [ 23.],\n       [ 23.],\n       [ 23.],\n       [ 29.],\n       [ 23.],\n       [ 71.],\n       [ 39.],\n       [ 23.],\n       [ 23.],\n       [ 23.],\n       [ 23.],\n       [ 23.],\n       [ 21.],\n       [ 37.],\n       [ 20.],\n       [ 12.],\n       [ 13.],\n       [ 23.],\n       [ 23.],\n       [ 23.],\n       [ 23.],\n       [ 23.],\n       [ 23.],\n       [ 23.],\n       [ 23.],\n       [ 23.],\n       [ 23.],\n       [135.],\n       [ 49.],\n       [ 32.],\n       [ 23.],\n       [ 64.],\n       [ 40.],\n       [ 77.],\n       [ 97.],\n       [ 97.],\n       [ 85.],\n       [ 23.],\n       [ 10.],\n       [ 27.],\n       [ 23.],\n       [  7.],\n       [ 48.],\n       [ 35.],\n       [ 61.],\n       [ 79.],\n       [ 63.],\n       [ 16.],\n       [ 23.],\n       [ 23.],\n       [ 80.],\n       [108.],\n       [ 20.],\n       [ 52.],\n       [ 82.],\n       [ 50.],\n       [ 64.],\n       [ 59.],\n       [ 39.],\n       [  9.],\n       [ 16.],\n       [ 78.],\n       [ 35.],\n       [ 66.],\n       [122.],\n       [ 89.],\n       [110.],\n       [ 23.],\n       [ 23.],\n       [ 44.],\n       [ 28.],\n       [ 65.],\n       [ 23.],\n       [ 22.],\n       [ 59.],\n       [ 23.],\n       [ 31.],\n       [ 44.],\n       [ 21.],\n       [  9.],\n       [ 23.],\n       [ 45.],\n       [168.],\n       [ 73.],\n       [ 23.],\n       [ 76.],\n       [118.],\n       [ 84.],\n       [ 85.],\n       [ 96.],\n       [ 78.],\n       [ 73.],\n       [ 91.],\n       [ 47.],\n       [ 32.],\n       [ 20.],\n       [ 23.],\n       [ 21.],\n       [ 24.],\n       [ 44.],\n       [ 21.],\n       [ 28.],\n       [  9.],\n       [ 13.],\n       [ 46.],\n       [ 18.],\n       [ 13.],\n       [ 24.],\n       [ 16.],\n       [ 13.],\n       [ 23.],\n       [ 36.],\n       [  7.],\n       [ 14.],\n       [ 30.],\n       [ 23.],\n       [ 14.],\n       [ 18.],\n       [ 20.]])"
          },
          "metadata": {}
        }
      ],
      "execution_count": 60
    },
    {
      "id": "694a2eeb-0461-454f-afe4-746a9a9d8918",
      "cell_type": "code",
      "source": "Y = A['Temp']",
      "metadata": {
        "trusted": true
      },
      "outputs": [],
      "execution_count": 61
    },
    {
      "id": "ee6af2fe-b2e6-47a9-9621-0c034e4bb7d7",
      "cell_type": "code",
      "source": "model = LinearRegression()",
      "metadata": {
        "trusted": true
      },
      "outputs": [],
      "execution_count": 62
    },
    {
      "id": "2a612e84-17c2-445f-a041-be21dbc5e6cf",
      "cell_type": "code",
      "source": "model.fit(X,Y)",
      "metadata": {
        "trusted": true
      },
      "outputs": [
        {
          "execution_count": 63,
          "output_type": "execute_result",
          "data": {
            "text/plain": "LinearRegression()",
            "text/html": "<style>#sk-container-id-1 {\n  /* Definition of color scheme common for light and dark mode */\n  --sklearn-color-text: black;\n  --sklearn-color-line: gray;\n  /* Definition of color scheme for unfitted estimators */\n  --sklearn-color-unfitted-level-0: #fff5e6;\n  --sklearn-color-unfitted-level-1: #f6e4d2;\n  --sklearn-color-unfitted-level-2: #ffe0b3;\n  --sklearn-color-unfitted-level-3: chocolate;\n  /* Definition of color scheme for fitted estimators */\n  --sklearn-color-fitted-level-0: #f0f8ff;\n  --sklearn-color-fitted-level-1: #d4ebff;\n  --sklearn-color-fitted-level-2: #b3dbfd;\n  --sklearn-color-fitted-level-3: cornflowerblue;\n\n  /* Specific color for light theme */\n  --sklearn-color-text-on-default-background: var(--sg-text-color, var(--theme-code-foreground, var(--jp-content-font-color1, black)));\n  --sklearn-color-background: var(--sg-background-color, var(--theme-background, var(--jp-layout-color0, white)));\n  --sklearn-color-border-box: var(--sg-text-color, var(--theme-code-foreground, var(--jp-content-font-color1, black)));\n  --sklearn-color-icon: #696969;\n\n  @media (prefers-color-scheme: dark) {\n    /* Redefinition of color scheme for dark theme */\n    --sklearn-color-text-on-default-background: var(--sg-text-color, var(--theme-code-foreground, var(--jp-content-font-color1, white)));\n    --sklearn-color-background: var(--sg-background-color, var(--theme-background, var(--jp-layout-color0, #111)));\n    --sklearn-color-border-box: var(--sg-text-color, var(--theme-code-foreground, var(--jp-content-font-color1, white)));\n    --sklearn-color-icon: #878787;\n  }\n}\n\n#sk-container-id-1 {\n  color: var(--sklearn-color-text);\n}\n\n#sk-container-id-1 pre {\n  padding: 0;\n}\n\n#sk-container-id-1 input.sk-hidden--visually {\n  border: 0;\n  clip: rect(1px 1px 1px 1px);\n  clip: rect(1px, 1px, 1px, 1px);\n  height: 1px;\n  margin: -1px;\n  overflow: hidden;\n  padding: 0;\n  position: absolute;\n  width: 1px;\n}\n\n#sk-container-id-1 div.sk-dashed-wrapped {\n  border: 1px dashed var(--sklearn-color-line);\n  margin: 0 0.4em 0.5em 0.4em;\n  box-sizing: border-box;\n  padding-bottom: 0.4em;\n  background-color: var(--sklearn-color-background);\n}\n\n#sk-container-id-1 div.sk-container {\n  /* jupyter's `normalize.less` sets `[hidden] { display: none; }`\n     but bootstrap.min.css set `[hidden] { display: none !important; }`\n     so we also need the `!important` here to be able to override the\n     default hidden behavior on the sphinx rendered scikit-learn.org.\n     See: https://github.com/scikit-learn/scikit-learn/issues/21755 */\n  display: inline-block !important;\n  position: relative;\n}\n\n#sk-container-id-1 div.sk-text-repr-fallback {\n  display: none;\n}\n\ndiv.sk-parallel-item,\ndiv.sk-serial,\ndiv.sk-item {\n  /* draw centered vertical line to link estimators */\n  background-image: linear-gradient(var(--sklearn-color-text-on-default-background), var(--sklearn-color-text-on-default-background));\n  background-size: 2px 100%;\n  background-repeat: no-repeat;\n  background-position: center center;\n}\n\n/* Parallel-specific style estimator block */\n\n#sk-container-id-1 div.sk-parallel-item::after {\n  content: \"\";\n  width: 100%;\n  border-bottom: 2px solid var(--sklearn-color-text-on-default-background);\n  flex-grow: 1;\n}\n\n#sk-container-id-1 div.sk-parallel {\n  display: flex;\n  align-items: stretch;\n  justify-content: center;\n  background-color: var(--sklearn-color-background);\n  position: relative;\n}\n\n#sk-container-id-1 div.sk-parallel-item {\n  display: flex;\n  flex-direction: column;\n}\n\n#sk-container-id-1 div.sk-parallel-item:first-child::after {\n  align-self: flex-end;\n  width: 50%;\n}\n\n#sk-container-id-1 div.sk-parallel-item:last-child::after {\n  align-self: flex-start;\n  width: 50%;\n}\n\n#sk-container-id-1 div.sk-parallel-item:only-child::after {\n  width: 0;\n}\n\n/* Serial-specific style estimator block */\n\n#sk-container-id-1 div.sk-serial {\n  display: flex;\n  flex-direction: column;\n  align-items: center;\n  background-color: var(--sklearn-color-background);\n  padding-right: 1em;\n  padding-left: 1em;\n}\n\n\n/* Toggleable style: style used for estimator/Pipeline/ColumnTransformer box that is\nclickable and can be expanded/collapsed.\n- Pipeline and ColumnTransformer use this feature and define the default style\n- Estimators will overwrite some part of the style using the `sk-estimator` class\n*/\n\n/* Pipeline and ColumnTransformer style (default) */\n\n#sk-container-id-1 div.sk-toggleable {\n  /* Default theme specific background. It is overwritten whether we have a\n  specific estimator or a Pipeline/ColumnTransformer */\n  background-color: var(--sklearn-color-background);\n}\n\n/* Toggleable label */\n#sk-container-id-1 label.sk-toggleable__label {\n  cursor: pointer;\n  display: block;\n  width: 100%;\n  margin-bottom: 0;\n  padding: 0.5em;\n  box-sizing: border-box;\n  text-align: center;\n}\n\n#sk-container-id-1 label.sk-toggleable__label-arrow:before {\n  /* Arrow on the left of the label */\n  content: \"▸\";\n  float: left;\n  margin-right: 0.25em;\n  color: var(--sklearn-color-icon);\n}\n\n#sk-container-id-1 label.sk-toggleable__label-arrow:hover:before {\n  color: var(--sklearn-color-text);\n}\n\n/* Toggleable content - dropdown */\n\n#sk-container-id-1 div.sk-toggleable__content {\n  max-height: 0;\n  max-width: 0;\n  overflow: hidden;\n  text-align: left;\n  /* unfitted */\n  background-color: var(--sklearn-color-unfitted-level-0);\n}\n\n#sk-container-id-1 div.sk-toggleable__content.fitted {\n  /* fitted */\n  background-color: var(--sklearn-color-fitted-level-0);\n}\n\n#sk-container-id-1 div.sk-toggleable__content pre {\n  margin: 0.2em;\n  border-radius: 0.25em;\n  color: var(--sklearn-color-text);\n  /* unfitted */\n  background-color: var(--sklearn-color-unfitted-level-0);\n}\n\n#sk-container-id-1 div.sk-toggleable__content.fitted pre {\n  /* unfitted */\n  background-color: var(--sklearn-color-fitted-level-0);\n}\n\n#sk-container-id-1 input.sk-toggleable__control:checked~div.sk-toggleable__content {\n  /* Expand drop-down */\n  max-height: 200px;\n  max-width: 100%;\n  overflow: auto;\n}\n\n#sk-container-id-1 input.sk-toggleable__control:checked~label.sk-toggleable__label-arrow:before {\n  content: \"▾\";\n}\n\n/* Pipeline/ColumnTransformer-specific style */\n\n#sk-container-id-1 div.sk-label input.sk-toggleable__control:checked~label.sk-toggleable__label {\n  color: var(--sklearn-color-text);\n  background-color: var(--sklearn-color-unfitted-level-2);\n}\n\n#sk-container-id-1 div.sk-label.fitted input.sk-toggleable__control:checked~label.sk-toggleable__label {\n  background-color: var(--sklearn-color-fitted-level-2);\n}\n\n/* Estimator-specific style */\n\n/* Colorize estimator box */\n#sk-container-id-1 div.sk-estimator input.sk-toggleable__control:checked~label.sk-toggleable__label {\n  /* unfitted */\n  background-color: var(--sklearn-color-unfitted-level-2);\n}\n\n#sk-container-id-1 div.sk-estimator.fitted input.sk-toggleable__control:checked~label.sk-toggleable__label {\n  /* fitted */\n  background-color: var(--sklearn-color-fitted-level-2);\n}\n\n#sk-container-id-1 div.sk-label label.sk-toggleable__label,\n#sk-container-id-1 div.sk-label label {\n  /* The background is the default theme color */\n  color: var(--sklearn-color-text-on-default-background);\n}\n\n/* On hover, darken the color of the background */\n#sk-container-id-1 div.sk-label:hover label.sk-toggleable__label {\n  color: var(--sklearn-color-text);\n  background-color: var(--sklearn-color-unfitted-level-2);\n}\n\n/* Label box, darken color on hover, fitted */\n#sk-container-id-1 div.sk-label.fitted:hover label.sk-toggleable__label.fitted {\n  color: var(--sklearn-color-text);\n  background-color: var(--sklearn-color-fitted-level-2);\n}\n\n/* Estimator label */\n\n#sk-container-id-1 div.sk-label label {\n  font-family: monospace;\n  font-weight: bold;\n  display: inline-block;\n  line-height: 1.2em;\n}\n\n#sk-container-id-1 div.sk-label-container {\n  text-align: center;\n}\n\n/* Estimator-specific */\n#sk-container-id-1 div.sk-estimator {\n  font-family: monospace;\n  border: 1px dotted var(--sklearn-color-border-box);\n  border-radius: 0.25em;\n  box-sizing: border-box;\n  margin-bottom: 0.5em;\n  /* unfitted */\n  background-color: var(--sklearn-color-unfitted-level-0);\n}\n\n#sk-container-id-1 div.sk-estimator.fitted {\n  /* fitted */\n  background-color: var(--sklearn-color-fitted-level-0);\n}\n\n/* on hover */\n#sk-container-id-1 div.sk-estimator:hover {\n  /* unfitted */\n  background-color: var(--sklearn-color-unfitted-level-2);\n}\n\n#sk-container-id-1 div.sk-estimator.fitted:hover {\n  /* fitted */\n  background-color: var(--sklearn-color-fitted-level-2);\n}\n\n/* Specification for estimator info (e.g. \"i\" and \"?\") */\n\n/* Common style for \"i\" and \"?\" */\n\n.sk-estimator-doc-link,\na:link.sk-estimator-doc-link,\na:visited.sk-estimator-doc-link {\n  float: right;\n  font-size: smaller;\n  line-height: 1em;\n  font-family: monospace;\n  background-color: var(--sklearn-color-background);\n  border-radius: 1em;\n  height: 1em;\n  width: 1em;\n  text-decoration: none !important;\n  margin-left: 1ex;\n  /* unfitted */\n  border: var(--sklearn-color-unfitted-level-1) 1pt solid;\n  color: var(--sklearn-color-unfitted-level-1);\n}\n\n.sk-estimator-doc-link.fitted,\na:link.sk-estimator-doc-link.fitted,\na:visited.sk-estimator-doc-link.fitted {\n  /* fitted */\n  border: var(--sklearn-color-fitted-level-1) 1pt solid;\n  color: var(--sklearn-color-fitted-level-1);\n}\n\n/* On hover */\ndiv.sk-estimator:hover .sk-estimator-doc-link:hover,\n.sk-estimator-doc-link:hover,\ndiv.sk-label-container:hover .sk-estimator-doc-link:hover,\n.sk-estimator-doc-link:hover {\n  /* unfitted */\n  background-color: var(--sklearn-color-unfitted-level-3);\n  color: var(--sklearn-color-background);\n  text-decoration: none;\n}\n\ndiv.sk-estimator.fitted:hover .sk-estimator-doc-link.fitted:hover,\n.sk-estimator-doc-link.fitted:hover,\ndiv.sk-label-container:hover .sk-estimator-doc-link.fitted:hover,\n.sk-estimator-doc-link.fitted:hover {\n  /* fitted */\n  background-color: var(--sklearn-color-fitted-level-3);\n  color: var(--sklearn-color-background);\n  text-decoration: none;\n}\n\n/* Span, style for the box shown on hovering the info icon */\n.sk-estimator-doc-link span {\n  display: none;\n  z-index: 9999;\n  position: relative;\n  font-weight: normal;\n  right: .2ex;\n  padding: .5ex;\n  margin: .5ex;\n  width: min-content;\n  min-width: 20ex;\n  max-width: 50ex;\n  color: var(--sklearn-color-text);\n  box-shadow: 2pt 2pt 4pt #999;\n  /* unfitted */\n  background: var(--sklearn-color-unfitted-level-0);\n  border: .5pt solid var(--sklearn-color-unfitted-level-3);\n}\n\n.sk-estimator-doc-link.fitted span {\n  /* fitted */\n  background: var(--sklearn-color-fitted-level-0);\n  border: var(--sklearn-color-fitted-level-3);\n}\n\n.sk-estimator-doc-link:hover span {\n  display: block;\n}\n\n/* \"?\"-specific style due to the `<a>` HTML tag */\n\n#sk-container-id-1 a.estimator_doc_link {\n  float: right;\n  font-size: 1rem;\n  line-height: 1em;\n  font-family: monospace;\n  background-color: var(--sklearn-color-background);\n  border-radius: 1rem;\n  height: 1rem;\n  width: 1rem;\n  text-decoration: none;\n  /* unfitted */\n  color: var(--sklearn-color-unfitted-level-1);\n  border: var(--sklearn-color-unfitted-level-1) 1pt solid;\n}\n\n#sk-container-id-1 a.estimator_doc_link.fitted {\n  /* fitted */\n  border: var(--sklearn-color-fitted-level-1) 1pt solid;\n  color: var(--sklearn-color-fitted-level-1);\n}\n\n/* On hover */\n#sk-container-id-1 a.estimator_doc_link:hover {\n  /* unfitted */\n  background-color: var(--sklearn-color-unfitted-level-3);\n  color: var(--sklearn-color-background);\n  text-decoration: none;\n}\n\n#sk-container-id-1 a.estimator_doc_link.fitted:hover {\n  /* fitted */\n  background-color: var(--sklearn-color-fitted-level-3);\n}\n</style><div id=\"sk-container-id-1\" class=\"sk-top-container\"><div class=\"sk-text-repr-fallback\"><pre>LinearRegression()</pre><b>In a Jupyter environment, please rerun this cell to show the HTML representation or trust the notebook. <br />On GitHub, the HTML representation is unable to render, please try loading this page with nbviewer.org.</b></div><div class=\"sk-container\" hidden><div class=\"sk-item\"><div class=\"sk-estimator fitted sk-toggleable\"><input class=\"sk-toggleable__control sk-hidden--visually\" id=\"sk-estimator-id-1\" type=\"checkbox\" checked><label for=\"sk-estimator-id-1\" class=\"sk-toggleable__label fitted sk-toggleable__label-arrow fitted\">&nbsp;&nbsp;LinearRegression<a class=\"sk-estimator-doc-link fitted\" rel=\"noreferrer\" target=\"_blank\" href=\"https://scikit-learn.org/1.5/modules/generated/sklearn.linear_model.LinearRegression.html\">?<span>Documentation for LinearRegression</span></a><span class=\"sk-estimator-doc-link fitted\">i<span>Fitted</span></span></label><div class=\"sk-toggleable__content fitted\"><pre>LinearRegression()</pre></div> </div></div></div></div>"
          },
          "metadata": {}
        }
      ],
      "execution_count": 63
    },
    {
      "id": "84297d77-04a6-450d-a835-94059a00a6d2",
      "cell_type": "code",
      "source": "model.score(X,Y)*100",
      "metadata": {
        "trusted": true
      },
      "outputs": [
        {
          "execution_count": 64,
          "output_type": "execute_result",
          "data": {
            "text/plain": "34.17694108137066"
          },
          "metadata": {}
        }
      ],
      "execution_count": 64
    },
    {
      "id": "b4ef2c8f-8e6c-4d54-ac18-8efd7648d3ee",
      "cell_type": "code",
      "source": "import matplotlib.pyplot as plt",
      "metadata": {
        "trusted": true
      },
      "outputs": [
        {
          "name": "stderr",
          "output_type": "stream",
          "text": "Matplotlib is building the font cache; this may take a moment.\n"
        }
      ],
      "execution_count": 65
    },
    {
      "id": "c3aaccd0-5ef6-4d6d-875a-110962062b11",
      "cell_type": "code",
      "source": "plt.scatter(X,Y)",
      "metadata": {
        "trusted": true
      },
      "outputs": [
        {
          "execution_count": 66,
          "output_type": "execute_result",
          "data": {
            "text/plain": "<matplotlib.collections.PathCollection at 0xa8d2b20>"
          },
          "metadata": {}
        },
        {
          "output_type": "display_data",
          "data": {
            "text/plain": "<Figure size 640x480 with 1 Axes>",
            "image/png": "[encoded data removed]"
          },
          "metadata": {}
        }
      ],
      "execution_count": 66
    },
    {
      "id": "143c9645-f27e-4b40-a4d6-e9a21539ab49",
      "cell_type": "code",
      "source": "",
      "metadata": {
        "trusted": true
      },
      "outputs": [],
      "execution_count": null
    }
  ]
}